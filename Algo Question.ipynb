{
 "cells": [
  {
   "cell_type": "code",
   "execution_count": 34,
   "id": "b4ac9c76-21db-45ed-be64-959f8b3fe595",
   "metadata": {},
   "outputs": [],
   "source": [
    "from typing import List"
   ]
  },
  {
   "cell_type": "code",
   "execution_count": 35,
   "id": "167309e9-e1f0-4704-bd66-6995140d0d60",
   "metadata": {},
   "outputs": [],
   "source": [
    "def package_collection(n: int, coordinates: List[List[int]]):\n",
    "\n",
    "    robo_coord = [0,0]\n",
    "    packages_picked = []\n",
    "    string = ''\n",
    "    \n",
    "    for i in range(n):\n",
    "    \n",
    "        chk=0\n",
    "        if coordinates[i][0] > robo_coord[0] and coordinates[i][1] >= robo_coord[1]:\n",
    "            cnt = coordinates[i][0] - robo_coord[0]\n",
    "            robo_coord[0] = coordinates[i][0]\n",
    "            string = string + 'R'*cnt\n",
    "            chk=1\n",
    "    \n",
    "        if coordinates[i][1] > robo_coord[1] and coordinates[i][0] >= robo_coord[0]:\n",
    "            cnt = coordinates[i][1] - robo_coord[1]\n",
    "            robo_coord[1] = coordinates[i][1]\n",
    "            string = string + 'U'*cnt\n",
    "            chk=2\n",
    "    \n",
    "        if chk > 0:\n",
    "            packages_picked.append(coordinates[i])\n",
    "\n",
    "    res = []\n",
    "    if packages_picked == coordinates:\n",
    "        res.append('YES')\n",
    "        res.append(string)\n",
    "    else:\n",
    "        res.append('NO')\n",
    "\n",
    "    return res\n",
    "\n"
   ]
  },
  {
   "cell_type": "code",
   "execution_count": 36,
   "id": "805b120d-0bd4-43df-a3db-0ac88dd16ef8",
   "metadata": {},
   "outputs": [
    {
     "name": "stdout",
     "output_type": "stream",
     "text": [
      "INPUT\n"
     ]
    },
    {
     "name": "stdin",
     "output_type": "stream",
     "text": [
      "No. of test cases:  3\n",
      "No. of packages for test case 1:  5\n",
      "Coordinates for package 1:  1 3\n",
      "Coordinates for package 2:  1 2\n",
      "Coordinates for package 3:  3 3\n",
      "Coordinates for package 4:  5 5\n",
      "Coordinates for package 5:  4 3\n",
      "No. of packages for test case 2:  2\n",
      "Coordinates for package 1:  1 0\n",
      "Coordinates for package 2:  0 1\n",
      "No. of packages for test case 3:  1\n",
      "Coordinates for package 1:  4 3\n"
     ]
    },
    {
     "name": "stdout",
     "output_type": "stream",
     "text": [
      "\n",
      "OUTPUT \n",
      "YES\n",
      "RUUURRRRUU\n",
      "NO\n",
      "YES\n",
      "RRRRUUU\n"
     ]
    }
   ],
   "source": [
    "# inputting no. of test cases\n",
    "print(\"INPUT\")\n",
    "t = int(input('No. of test cases: ')) \n",
    "\n",
    "result = list()\n",
    "\n",
    "for i in range(t):\n",
    "    coordinates = list()\n",
    "    n = int(input('No. of packages for test case {}: '.format(i+1)))\n",
    "    for j in range(n):\n",
    "        x_coord, y_coord = map(int, input('Coordinates for package {}: '.format(j+1)).split())\n",
    "        coordinates.append([x_coord, y_coord])\n",
    "    coordinates= sorted(coordinates, key=lambda x: [x[0], x[1]])    \n",
    "    result.append(package_collection(n, coordinates))\n",
    "\n",
    "print('\\nOUTPUT ')\n",
    "for i in range(t):\n",
    "    if result[i][0] == 'YES':\n",
    "        print(result[i][0])\n",
    "        print(result[i][1])\n",
    "    else:\n",
    "        print(result[i][0])"
   ]
  },
  {
   "cell_type": "code",
   "execution_count": null,
   "id": "e98f4ac0-6eaa-4fd0-8880-1fe397d8c5d3",
   "metadata": {},
   "outputs": [],
   "source": []
  }
 ],
 "metadata": {
  "kernelspec": {
   "display_name": "Python 3 (ipykernel)",
   "language": "python",
   "name": "python3"
  },
  "language_info": {
   "codemirror_mode": {
    "name": "ipython",
    "version": 3
   },
   "file_extension": ".py",
   "mimetype": "text/x-python",
   "name": "python",
   "nbconvert_exporter": "python",
   "pygments_lexer": "ipython3",
   "version": "3.12.7"
  }
 },
 "nbformat": 4,
 "nbformat_minor": 5
}
